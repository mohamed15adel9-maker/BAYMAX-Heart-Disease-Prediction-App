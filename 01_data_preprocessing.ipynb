{
 "cells": [
  {
   "cell_type": "code",
   "execution_count": 3,
   "id": "ba6bcc5a",
   "metadata": {},
   "outputs": [
    {
     "name": "stdout",
     "output_type": "stream",
     "text": [
      "✅ Data Preprocessing Complete. Shape: (303, 23)\n"
     ]
    }
   ],
   "source": [
    "# 01_data_preprocessing.ipynb\n",
    "\n",
    "# --- Imports ---\n",
    "from ucimlrepo import fetch_ucirepo\n",
    "from sklearn.preprocessing import StandardScaler\n",
    "import pandas as pd\n",
    "import numpy as np\n",
    "\n",
    "# --- Fetch dataset ---\n",
    "heart_disease = fetch_ucirepo(id=45)\n",
    "\n",
    "# --- Data ---\n",
    "X = heart_disease.data.features\n",
    "y = heart_disease.data.targets\n",
    "\n",
    "# --- Combine features + target into one dataframe ---\n",
    "df = pd.concat([X, y], axis=1)\n",
    "df_clean = df.copy()\n",
    "df_clean['ca'] = df_clean['ca'].fillna(0)\n",
    "df_clean['thal'] = df_clean['thal'].fillna(df_clean['thal'].mode()[0])\n",
    "\n",
    "# --- One-hot encoding for categorical features ---\n",
    "df_clean.insert(3, \"cp_1\", 0)\n",
    "df_clean.insert(4, \"cp_2\", 0)\n",
    "df_clean.insert(5, \"cp_3\", 0)\n",
    "df_clean.insert(6, \"cp_4\", 0)\n",
    "df_clean[\"cp_1\"] = np.where(df[\"cp\"] ==1, 1, 0)\n",
    "df_clean[\"cp_2\"] = np.where(df[\"cp\"] ==2, 1, 0)\n",
    "df_clean[\"cp_3\"] = np.where(df[\"cp\"] ==3, 1, 0)\n",
    "df_clean[\"cp_4\"] = np.where(df[\"cp\"] ==4, 1, 0)\n",
    "\n",
    "df_clean.insert(10, \"restecg_0\", 0)\n",
    "df_clean.insert(11, \"restecg_1\", 0)\n",
    "df_clean.insert(12, \"restecg_2\", 0)\n",
    "df_clean[\"restecg_0\"] = np.where(df[\"restecg\"] ==0, 1, 0)\n",
    "df_clean[\"restecg_1\"] = np.where(df[\"restecg\"] ==1, 1, 0)\n",
    "df_clean[\"restecg_2\"] = np.where(df[\"restecg\"] ==2, 1, 0)\n",
    "\n",
    "df_clean.insert(15, \"slope_1\", 0)\n",
    "df_clean.insert(16, \"slope_2\", 0)\n",
    "df_clean.insert(17, \"slope_3\", 0)\n",
    "df_clean[\"slope_1\"] = np.where(df[\"slope\"] ==1, 1, 0)\n",
    "df_clean[\"slope_2\"] = np.where(df[\"slope\"] ==2, 1, 0)\n",
    "df_clean[\"slope_3\"] = np.where(df[\"slope\"] ==3, 1, 0)\n",
    "\n",
    "df_clean.insert(19, \"thal_3\", 0)\n",
    "df_clean.insert(20, \"thal_6\", 0)        \n",
    "df_clean.insert(21, \"thal_7\", 0)\n",
    "df_clean[\"thal_3\"] = np.where(df[\"thal\"] ==3, 1, 0)\n",
    "df_clean[\"thal_6\"] = np.where(df[\"thal\"] ==6, 1, 0)\n",
    "df_clean[\"thal_7\"] = np.where(df[\"thal\"] ==7, 1 , 0)\n",
    "df_clean = df_clean.drop(columns=['cp', 'restecg', 'slope', 'thal'])\n",
    "\n",
    "# --- Standardize continuous features ---\n",
    "scaler = StandardScaler()\n",
    "continuous_features = ['age', 'trestbps', 'chol', 'thalach', 'oldpeak', 'ca']\n",
    "df_clean[continuous_features] = scaler.fit_transform(df_clean[continuous_features])\n",
    "\n",
    "print(\"✅ Data Preprocessing Complete. Shape:\", df_clean.shape)\n"
   ]
  }
 ],
 "metadata": {
  "kernelspec": {
   "display_name": "Python 3",
   "language": "python",
   "name": "python3"
  },
  "language_info": {
   "codemirror_mode": {
    "name": "ipython",
    "version": 3
   },
   "file_extension": ".py",
   "mimetype": "text/x-python",
   "name": "python",
   "nbconvert_exporter": "python",
   "pygments_lexer": "ipython3",
   "version": "3.13.7"
  }
 },
 "nbformat": 4,
 "nbformat_minor": 5
}
